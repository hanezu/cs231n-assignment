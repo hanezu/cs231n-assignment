{
 "cells": [
  {
   "cell_type": "markdown",
   "metadata": {},
   "source": [
    "# Softmax exercise\n",
    "\n",
    "*Complete and hand in this completed worksheet (including its outputs and any supporting code outside of the worksheet) with your assignment submission. For more details see the [assignments page](http://vision.stanford.edu/teaching/cs231n/assignments.html) on the course website.*\n",
    "\n",
    "This exercise is analogous to the SVM exercise. You will:\n",
    "\n",
    "- implement a fully-vectorized **loss function** for the Softmax classifier\n",
    "- implement the fully-vectorized expression for its **analytic gradient**\n",
    "- **check your implementation** with numerical gradient\n",
    "- use a validation set to **tune the learning rate and regularization** strength\n",
    "- **optimize** the loss function with **SGD**\n",
    "- **visualize** the final learned weights\n"
   ]
  },
  {
   "cell_type": "code",
   "execution_count": 1,
   "metadata": {
    "collapsed": false
   },
   "outputs": [],
   "source": [
    "import random\n",
    "import numpy as np\n",
    "from cs231n.data_utils import load_CIFAR10\n",
    "import matplotlib.pyplot as plt\n",
    "%matplotlib inline\n",
    "plt.rcParams['figure.figsize'] = (10.0, 8.0) # set default size of plots\n",
    "plt.rcParams['image.interpolation'] = 'nearest'\n",
    "plt.rcParams['image.cmap'] = 'gray'\n",
    "\n",
    "# for auto-reloading extenrnal modules\n",
    "# see http://stackoverflow.com/questions/1907993/autoreload-of-modules-in-ipython\n",
    "%load_ext autoreload\n",
    "%autoreload 2"
   ]
  },
  {
   "cell_type": "code",
   "execution_count": 2,
   "metadata": {
    "collapsed": false
   },
   "outputs": [
    {
     "name": "stdout",
     "output_type": "stream",
     "text": [
      "Train data shape:  (49000, 3073)\n",
      "Train labels shape:  (49000,)\n",
      "Validation data shape:  (1000, 3073)\n",
      "Validation labels shape:  (1000,)\n",
      "Test data shape:  (1000, 3073)\n",
      "Test labels shape:  (1000,)\n",
      "dev data shape:  (500, 3073)\n",
      "dev labels shape:  (500,)\n"
     ]
    }
   ],
   "source": [
    "def get_CIFAR10_data(num_training=49000, num_validation=1000, num_test=1000, num_dev=500):\n",
    "  \"\"\"\n",
    "  Load the CIFAR-10 dataset from disk and perform preprocessing to prepare\n",
    "  it for the linear classifier. These are the same steps as we used for the\n",
    "  SVM, but condensed to a single function.  \n",
    "  \"\"\"\n",
    "  # Load the raw CIFAR-10 data\n",
    "  cifar10_dir = 'cs231n/datasets/cifar-10-batches-py'\n",
    "  X_train, y_train, X_test, y_test = load_CIFAR10(cifar10_dir)\n",
    "  \n",
    "  # subsample the data\n",
    "  mask = range(num_training, num_training + num_validation)\n",
    "  X_val = X_train[mask]\n",
    "  y_val = y_train[mask]\n",
    "  mask = range(num_training)\n",
    "  X_train = X_train[mask]\n",
    "  y_train = y_train[mask]\n",
    "  mask = range(num_test)\n",
    "  X_test = X_test[mask]\n",
    "  y_test = y_test[mask]\n",
    "  mask = np.random.choice(num_training, num_dev, replace=False)\n",
    "  X_dev = X_train[mask]\n",
    "  y_dev = y_train[mask]\n",
    "  \n",
    "  # Preprocessing: reshape the image data into rows\n",
    "  X_train = np.reshape(X_train, (X_train.shape[0], -1))\n",
    "  X_val = np.reshape(X_val, (X_val.shape[0], -1))\n",
    "  X_test = np.reshape(X_test, (X_test.shape[0], -1))\n",
    "  X_dev = np.reshape(X_dev, (X_dev.shape[0], -1))\n",
    "  \n",
    "  # Normalize the data: subtract the mean image\n",
    "  mean_image = np.mean(X_train, axis = 0)\n",
    "  X_train -= mean_image\n",
    "  X_val -= mean_image\n",
    "  X_test -= mean_image\n",
    "  X_dev -= mean_image\n",
    "  \n",
    "  # add bias dimension and transform into columns\n",
    "  X_train = np.hstack([X_train, np.ones((X_train.shape[0], 1))])\n",
    "  X_val = np.hstack([X_val, np.ones((X_val.shape[0], 1))])\n",
    "  X_test = np.hstack([X_test, np.ones((X_test.shape[0], 1))])\n",
    "  X_dev = np.hstack([X_dev, np.ones((X_dev.shape[0], 1))])\n",
    "  \n",
    "  return X_train, y_train, X_val, y_val, X_test, y_test, X_dev, y_dev\n",
    "\n",
    "\n",
    "# Invoke the above function to get our data.\n",
    "X_train, y_train, X_val, y_val, X_test, y_test, X_dev, y_dev = get_CIFAR10_data()\n",
    "print 'Train data shape: ', X_train.shape\n",
    "print 'Train labels shape: ', y_train.shape\n",
    "print 'Validation data shape: ', X_val.shape\n",
    "print 'Validation labels shape: ', y_val.shape\n",
    "print 'Test data shape: ', X_test.shape\n",
    "print 'Test labels shape: ', y_test.shape\n",
    "print 'dev data shape: ', X_dev.shape\n",
    "print 'dev labels shape: ', y_dev.shape"
   ]
  },
  {
   "cell_type": "markdown",
   "metadata": {},
   "source": [
    "## Softmax Classifier\n",
    "\n",
    "Your code for this section will all be written inside **cs231n/classifiers/softmax.py**. \n"
   ]
  },
  {
   "cell_type": "code",
   "execution_count": 5,
   "metadata": {
    "collapsed": false
   },
   "outputs": [
    {
     "name": "stdout",
     "output_type": "stream",
     "text": [
      "loss: 2.397563\n",
      "sanity check: 2.302585\n"
     ]
    }
   ],
   "source": [
    "# First implement the naive softmax loss function with nested loops.\n",
    "# Open the file cs231n/classifiers/softmax.py and implement the\n",
    "# softmax_loss_naive function.\n",
    "\n",
    "from cs231n.classifiers.softmax import softmax_loss_naive\n",
    "import time\n",
    "\n",
    "# Generate a random softmax weight matrix and use it to compute the loss.\n",
    "W = np.random.randn(3073, 10) * 0.0001\n",
    "loss, grad = softmax_loss_naive(W, X_dev, y_dev, 0.0)\n",
    "\n",
    "# As a rough sanity check, our loss should be something close to -log(0.1).\n",
    "print 'loss: %f' % loss\n",
    "print 'sanity check: %f' % (-np.log(0.1))"
   ]
  },
  {
   "cell_type": "markdown",
   "metadata": {},
   "source": [
    "## Inline Question 1:\n",
    "Why do we expect our loss to be close to -log(0.1)? Explain briefly.**\n",
    "\n",
    "**Your answer:** *Random W do not have classification ability. The possibility is therefore 0.1*\n"
   ]
  },
  {
   "cell_type": "code",
   "execution_count": 6,
   "metadata": {
    "collapsed": false
   },
   "outputs": [
    {
     "name": "stdout",
     "output_type": "stream",
     "text": [
      "numerical: -1.204135 analytic: -1.204135, relative error: 8.750527e-09\n",
      "numerical: 1.906080 analytic: 1.906080, relative error: 3.977318e-08\n",
      "numerical: 0.528011 analytic: 0.528011, relative error: 3.343905e-08\n",
      "numerical: -0.610268 analytic: -0.610268, relative error: 2.828683e-08\n",
      "numerical: 0.321206 analytic: 0.321206, relative error: 9.657798e-08\n",
      "numerical: 0.763097 analytic: 0.763098, relative error: 3.178224e-08\n",
      "numerical: -1.883311 analytic: -1.883311, relative error: 5.084884e-09\n",
      "numerical: -0.899918 analytic: -0.899918, relative error: 1.259345e-08\n",
      "numerical: 6.514251 analytic: 6.514251, relative error: 8.344245e-09\n",
      "numerical: 1.385145 analytic: 1.385145, relative error: 4.784940e-08\n",
      "numerical: 2.471611 analytic: 2.471879, relative error: 5.415519e-05\n",
      "numerical: 0.379779 analytic: 0.368153, relative error: 1.554376e-02\n",
      "numerical: -6.167855 analytic: -6.206047, relative error: 3.086431e-03\n",
      "numerical: -0.613962 analytic: -0.644210, relative error: 2.404121e-02\n",
      "numerical: 1.982912 analytic: 1.997106, relative error: 3.566353e-03\n",
      "numerical: 0.229274 analytic: 0.209570, relative error: 4.490127e-02\n",
      "numerical: 1.504908 analytic: 1.490827, relative error: 4.700338e-03\n",
      "numerical: 1.763680 analytic: 1.766540, relative error: 8.101290e-04\n",
      "numerical: -0.009006 analytic: -0.006130, relative error: 1.900678e-01\n",
      "numerical: 1.527465 analytic: 1.508669, relative error: 6.190811e-03\n"
     ]
    }
   ],
   "source": [
    "# Complete the implementation of softmax_loss_naive and implement a (naive)\n",
    "# version of the gradient that uses nested loops.\n",
    "loss, grad = softmax_loss_naive(W, X_dev, y_dev, 0.0)\n",
    "\n",
    "# As we did for the SVM, use numeric gradient checking as a debugging tool.\n",
    "# The numeric gradient should be close to the analytic gradient.\n",
    "from cs231n.gradient_check import grad_check_sparse\n",
    "f = lambda w: softmax_loss_naive(w, X_dev, y_dev, 0.0)[0]\n",
    "grad_numerical = grad_check_sparse(f, W, grad, 10)\n",
    "\n",
    "# similar to SVM case, do another gradient check with regularization\n",
    "loss, grad = softmax_loss_naive(W, X_dev, y_dev, 1e2)\n",
    "f = lambda w: softmax_loss_naive(w, X_dev, y_dev, 1e2)[0]\n",
    "grad_numerical = grad_check_sparse(f, W, grad, 10)"
   ]
  },
  {
   "cell_type": "code",
   "execution_count": 7,
   "metadata": {
    "collapsed": false
   },
   "outputs": [
    {
     "name": "stdout",
     "output_type": "stream",
     "text": [
      "naive loss: 2.397563e+00 computed in 0.087422s\n",
      "vectorized loss: 2.397563e+00 computed in 0.020355s\n",
      "Loss difference: 0.000000\n",
      "Gradient difference: 0.000000\n"
     ]
    }
   ],
   "source": [
    "# Now that we have a naive implementation of the softmax loss function and its gradient,\n",
    "# implement a vectorized version in softmax_loss_vectorized.\n",
    "# The two versions should compute the same results, but the vectorized version should be\n",
    "# much faster.\n",
    "tic = time.time()\n",
    "loss_naive, grad_naive = softmax_loss_naive(W, X_dev, y_dev, 0.00001)\n",
    "toc = time.time()\n",
    "print 'naive loss: %e computed in %fs' % (loss_naive, toc - tic)\n",
    "\n",
    "from cs231n.classifiers.softmax import softmax_loss_vectorized\n",
    "tic = time.time()\n",
    "loss_vectorized, grad_vectorized = softmax_loss_vectorized(W, X_dev, y_dev, 0.00001)\n",
    "toc = time.time()\n",
    "print 'vectorized loss: %e computed in %fs' % (loss_vectorized, toc - tic)\n",
    "\n",
    "# As we did for the SVM, we use the Frobenius norm to compare the two versions\n",
    "# of the gradient.\n",
    "grad_difference = np.linalg.norm(grad_naive - grad_vectorized, ord='fro')\n",
    "print 'Loss difference: %f' % np.abs(loss_naive - loss_vectorized)\n",
    "print 'Gradient difference: %f' % grad_difference"
   ]
  },
  {
   "cell_type": "code",
   "execution_count": 9,
   "metadata": {
    "collapsed": false
   },
   "outputs": [
    {
     "name": "stdout",
     "output_type": "stream",
     "text": [
      "iteration 0 / 400: loss 5.772058\n",
      "iteration 100 / 400: loss 2.446937\n",
      "iteration 200 / 400: loss 2.115400\n",
      "iteration 300 / 400: loss 2.106650\n",
      "iteration 0 / 400: loss 4.905951\n",
      "iteration 100 / 400: loss inf\n",
      "iteration 200 / 400: loss inf\n",
      "iteration 300 / 400: loss inf\n",
      "iteration 0 / 400: loss 5.509102\n",
      "iteration 100 / 400: loss inf\n",
      "iteration 200 / 400: loss inf\n",
      "iteration 300 / 400: loss inf\n",
      "iteration 0 / 400: loss 4.907421\n",
      "iteration 100 / 400: loss inf\n",
      "iteration 200 / 400: loss inf\n",
      "iteration 300 / 400: loss nan\n",
      "iteration 0 / 400: loss 5.690875\n",
      "iteration 100 / 400: loss inf\n",
      "iteration 200 / 400: loss inf\n",
      "iteration 300 / 400: loss nan\n",
      "iteration 0 / 400: loss 5.221801\n",
      "iteration 100 / 400: loss 2.138481\n",
      "iteration 200 / 400: loss 2.065346\n",
      "iteration 300 / 400: loss 2.053401\n",
      "iteration 0 / 400: loss 5.316043\n",
      "iteration 100 / 400: loss inf\n",
      "iteration 200 / 400: loss inf\n",
      "iteration 300 / 400: loss inf\n",
      "iteration 0 / 400: loss 5.136066\n",
      "iteration 100 / 400: loss inf\n",
      "iteration 200 / 400: loss inf\n",
      "iteration 300 / 400: loss nan\n",
      "iteration 0 / 400: loss 4.888397\n",
      "iteration 100 / 400: loss inf\n",
      "iteration 200 / 400: loss inf\n",
      "iteration 300 / 400: loss nan\n",
      "iteration 0 / 400: loss 5.540207\n",
      "iteration 100 / 400: loss inf\n"
     ]
    },
    {
     "name": "stderr",
     "output_type": "stream",
     "text": [
      "cs231n/classifiers/softmax.py:86: RuntimeWarning: invalid value encountered in subtract\n"
     ]
    },
    {
     "name": "stdout",
     "output_type": "stream",
     "text": [
      "iteration 200 / 400: loss nan\n",
      "iteration 300 / 400: loss nan\n",
      "iteration 0 / 400: loss 5.022580\n",
      "iteration 100 / 400: loss 2.073193\n",
      "iteration 200 / 400: loss 2.080531\n",
      "iteration 300 / 400: loss 2.099312\n",
      "iteration 0 / 400: loss 5.366702\n",
      "iteration 100 / 400: loss inf\n",
      "iteration 200 / 400: loss inf\n",
      "iteration 300 / 400: loss nan\n",
      "iteration 0 / 400: loss 6.277229\n",
      "iteration 100 / 400: loss inf\n",
      "iteration 200 / 400: loss inf\n",
      "iteration 300 / 400: loss nan\n",
      "iteration 0 / 400: loss 5.735230\n",
      "iteration 100 / 400: loss inf\n",
      "iteration 200 / 400: loss nan\n",
      "iteration 300 / 400: loss nan\n",
      "iteration 0 / 400: loss 5.346516\n",
      "iteration 100 / 400: loss inf\n",
      "iteration 200 / 400: loss nan\n",
      "iteration 300 / 400: loss nan\n",
      "iteration 0 / 400: loss 5.653258\n",
      "iteration 100 / 400: loss 2.025459\n",
      "iteration 200 / 400: loss 2.078061\n",
      "iteration 300 / 400: loss 2.095888\n",
      "iteration 0 / 400: loss 5.715989\n",
      "iteration 100 / 400: loss inf\n",
      "iteration 200 / 400: loss inf\n",
      "iteration 300 / 400: loss nan\n",
      "iteration 0 / 400: loss 5.042449\n",
      "iteration 100 / 400: loss inf\n",
      "iteration 200 / 400: loss nan\n",
      "iteration 300 / 400: loss nan\n",
      "iteration 0 / 400: loss 5.500166\n",
      "iteration 100 / 400: loss inf\n",
      "iteration 200 / 400: loss nan\n",
      "iteration 300 / 400: loss nan\n",
      "iteration 0 / 400: loss 5.628261\n",
      "iteration 100 / 400: loss inf\n",
      "iteration 200 / 400: loss nan\n",
      "iteration 300 / 400: loss nan\n",
      "iteration 0 / 400: loss 6.349744\n",
      "iteration 100 / 400: loss 2.042371\n",
      "iteration 200 / 400: loss 2.087944\n",
      "iteration 300 / 400: loss 2.083138\n",
      "iteration 0 / 400: loss 6.009105\n",
      "iteration 100 / 400: loss inf\n",
      "iteration 200 / 400: loss inf\n",
      "iteration 300 / 400: loss nan\n",
      "iteration 0 / 400: loss 5.941990\n",
      "iteration 100 / 400: loss inf\n",
      "iteration 200 / 400: loss nan\n",
      "iteration 300 / 400: loss nan\n",
      "iteration 0 / 400: loss 5.539706\n",
      "iteration 100 / 400: loss inf\n",
      "iteration 200 / 400: loss nan\n",
      "iteration 300 / 400: loss nan\n",
      "iteration 0 / 400: loss 6.148245\n",
      "iteration 100 / 400: loss inf\n",
      "iteration 200 / 400: loss nan\n",
      "iteration 300 / 400: loss nan\n",
      "lr 1.000000e-07 reg 5.000000e+04 train accuracy: 0.308837 val accuracy: 0.316000\n",
      "lr 1.000000e-07 reg 2.503750e+07 train accuracy: 0.092898 val accuracy: 0.095000\n",
      "lr 1.000000e-07 reg 5.002500e+07 train accuracy: 0.100265 val accuracy: 0.087000\n",
      "lr 1.000000e-07 reg 7.501250e+07 train accuracy: 0.100265 val accuracy: 0.087000\n",
      "lr 1.000000e-07 reg 1.000000e+08 train accuracy: 0.100265 val accuracy: 0.087000\n",
      "lr 2.000000e-07 reg 5.000000e+04 train accuracy: 0.301878 val accuracy: 0.320000\n",
      "lr 2.000000e-07 reg 2.503750e+07 train accuracy: 0.100265 val accuracy: 0.087000\n",
      "lr 2.000000e-07 reg 5.002500e+07 train accuracy: 0.100265 val accuracy: 0.087000\n",
      "lr 2.000000e-07 reg 7.501250e+07 train accuracy: 0.100265 val accuracy: 0.087000\n",
      "lr 2.000000e-07 reg 1.000000e+08 train accuracy: 0.100265 val accuracy: 0.087000\n",
      "lr 3.000000e-07 reg 5.000000e+04 train accuracy: 0.311857 val accuracy: 0.319000\n",
      "lr 3.000000e-07 reg 2.503750e+07 train accuracy: 0.100265 val accuracy: 0.087000\n",
      "lr 3.000000e-07 reg 5.002500e+07 train accuracy: 0.100265 val accuracy: 0.087000\n",
      "lr 3.000000e-07 reg 7.501250e+07 train accuracy: 0.100265 val accuracy: 0.087000\n",
      "lr 3.000000e-07 reg 1.000000e+08 train accuracy: 0.100265 val accuracy: 0.087000\n",
      "lr 4.000000e-07 reg 5.000000e+04 train accuracy: 0.301224 val accuracy: 0.320000\n",
      "lr 4.000000e-07 reg 2.503750e+07 train accuracy: 0.100265 val accuracy: 0.087000\n",
      "lr 4.000000e-07 reg 5.002500e+07 train accuracy: 0.100265 val accuracy: 0.087000\n",
      "lr 4.000000e-07 reg 7.501250e+07 train accuracy: 0.100265 val accuracy: 0.087000\n",
      "lr 4.000000e-07 reg 1.000000e+08 train accuracy: 0.100265 val accuracy: 0.087000\n",
      "lr 5.000000e-07 reg 5.000000e+04 train accuracy: 0.292816 val accuracy: 0.303000\n",
      "lr 5.000000e-07 reg 2.503750e+07 train accuracy: 0.100265 val accuracy: 0.087000\n",
      "lr 5.000000e-07 reg 5.002500e+07 train accuracy: 0.100265 val accuracy: 0.087000\n",
      "lr 5.000000e-07 reg 7.501250e+07 train accuracy: 0.100265 val accuracy: 0.087000\n",
      "lr 5.000000e-07 reg 1.000000e+08 train accuracy: 0.100265 val accuracy: 0.087000\n",
      "best validation accuracy achieved during cross-validation: 0.320000\n"
     ]
    }
   ],
   "source": [
    "# Use the validation set to tune hyperparameters (regularization strength and\n",
    "# learning rate). You should experiment with different ranges for the learning\n",
    "# rates and regularization strengths; if you are careful you should be able to\n",
    "# get a classification accuracy of over 0.35 on the validation set.\n",
    "from cs231n.classifiers import Softmax\n",
    "results = {}\n",
    "best_val = -1\n",
    "best_softmax = None\n",
    "learning_rates = [1e-7, 5e-7]\n",
    "regularization_strengths = [5e4, 1e8]\n",
    "\n",
    "################################################################################\n",
    "# TODO:                                                                        #\n",
    "# Use the validation set to set the learning rate and regularization strength. #\n",
    "# This should be identical to the validation that you did for the SVM; save    #\n",
    "# the best trained softmax classifer in best_softmax.                          #\n",
    "################################################################################\n",
    "\n",
    "# cheat here for finer division to make life better\n",
    "learning_rates = np.linspace(learning_rates[0], learning_rates[1], num=5)\n",
    "regularization_strengths = np.linspace(regularization_strengths[0], regularization_strengths[1], num=5)\n",
    "\n",
    "# it seem that high learning rate would make the loss -> inf\n",
    "for learning_rate in learning_rates:\n",
    "    for regularization_strength in regularization_strengths:\n",
    "        softmax = Softmax()\n",
    "        loss_hist = softmax.train(X_train, y_train, learning_rate=learning_rate, reg=regularization_strength,\n",
    "                      num_iters=400, verbose=True)\n",
    "        y_train_pred = softmax.predict(X_train)\n",
    "        y_val_pred = softmax.predict(X_val)\n",
    "        current_val = np.mean(y_val == y_val_pred)\n",
    "        if current_val > best_val:\n",
    "            best_val = current_val\n",
    "            best_softmax = softmax\n",
    "        results[(learning_rate, regularization_strength)] = (np.mean(y_train == y_train_pred),  current_val)\n",
    "        \n",
    "\n",
    "        \n",
    "################################################################################\n",
    "#                              END OF YOUR CODE                                #\n",
    "################################################################################\n",
    "    \n",
    "# Print out results.\n",
    "for lr, reg in sorted(results):\n",
    "    train_accuracy, val_accuracy = results[(lr, reg)]\n",
    "    print 'lr %e reg %e train accuracy: %f val accuracy: %f' % (\n",
    "                lr, reg, train_accuracy, val_accuracy)\n",
    "    \n",
    "print 'best validation accuracy achieved during cross-validation: %f' % best_val"
   ]
  },
  {
   "cell_type": "code",
   "execution_count": 10,
   "metadata": {
    "collapsed": false
   },
   "outputs": [
    {
     "name": "stdout",
     "output_type": "stream",
     "text": [
      "softmax on raw pixels final test set accuracy: 0.319000\n"
     ]
    }
   ],
   "source": [
    "# evaluate on test set\n",
    "# Evaluate the best softmax on test set\n",
    "y_test_pred = best_softmax.predict(X_test)\n",
    "test_accuracy = np.mean(y_test == y_test_pred)\n",
    "print 'softmax on raw pixels final test set accuracy: %f' % (test_accuracy, )"
   ]
  },
  {
   "cell_type": "code",
   "execution_count": 11,
   "metadata": {
    "collapsed": false
   },
   "outputs": [
    {
     "data": {
      "image/png": "[encoded data removed]",
      "text/plain": [
       "<matplotlib.figure.Figure at 0x117a6c850>"
      ]
     },
     "metadata": {},
     "output_type": "display_data"
    }
   ],
   "source": [
    "# Visualize the learned weights for each class\n",
    "w = best_softmax.W[:-1,:] # strip out the bias\n",
    "w = w.reshape(32, 32, 3, 10)\n",
    "\n",
    "w_min, w_max = np.min(w), np.max(w)\n",
    "\n",
    "classes = ['plane', 'car', 'bird', 'cat', 'deer', 'dog', 'frog', 'horse', 'ship', 'truck']\n",
    "for i in xrange(10):\n",
    "  plt.subplot(2, 5, i + 1)\n",
    "  \n",
    "  # Rescale the weights to be between 0 and 255\n",
    "  wimg = 255.0 * (w[:, :, :, i].squeeze() - w_min) / (w_max - w_min)\n",
    "  plt.imshow(wimg.astype('uint8'))\n",
    "  plt.axis('off')\n",
    "  plt.title(classes[i])"
   ]
  },
  {
   "cell_type": "code",
   "execution_count": null,
   "metadata": {
    "collapsed": true
   },
   "outputs": [],
   "source": []
  }
 ],
 "metadata": {
  "kernelspec": {
   "display_name": "Python 2",
   "language": "python",
   "name": "python2"
  },
  "language_info": {
   "codemirror_mode": {
    "name": "ipython",
    "version": 2
   },
   "file_extension": ".py",
   "mimetype": "text/x-python",
   "name": "python",
   "nbconvert_exporter": "python",
   "pygments_lexer": "ipython2",
   "version": "2.7.13"
  }
 },
 "nbformat": 4,
 "nbformat_minor": 0
}
