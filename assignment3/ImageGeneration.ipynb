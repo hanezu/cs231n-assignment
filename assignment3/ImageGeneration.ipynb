{
 "cells": [
  {
   "cell_type": "markdown",
   "metadata": {},
   "source": [
    "# Image Generation\n",
    "In this notebook we will continue our exploration of image gradients using the deep model that was pretrained on TinyImageNet. We will explore various ways of using these image gradients to generate images. We will implement class visualizations, feature inversion, and DeepDream."
   ]
  },
  {
   "cell_type": "code",
   "execution_count": 4,
   "metadata": {
    "collapsed": false
   },
   "outputs": [
    {
     "name": "stdout",
     "output_type": "stream",
     "text": [
      "The autoreload extension is already loaded. To reload it, use:\n",
      "  %reload_ext autoreload\n"
     ]
    }
   ],
   "source": [
    "# As usual, a bit of setup\n",
    "\n",
    "import time, os, json\n",
    "import numpy as np\n",
    "from scipy.misc import imread, imresize\n",
    "import matplotlib.pyplot as plt\n",
    "\n",
    "from cs231n.classifiers.pretrained_cnn import PretrainedCNN\n",
    "from cs231n.data_utils import load_tiny_imagenet\n",
    "from cs231n.image_utils import blur_image, deprocess_image, preprocess_image\n",
    "\n",
    "%matplotlib inline\n",
    "plt.rcParams['figure.figsize'] = (10.0, 8.0) # set default size of plots\n",
    "plt.rcParams['image.interpolation'] = 'nearest'\n",
    "plt.rcParams['image.cmap'] = 'gray'\n",
    "\n",
    "# for auto-reloading external modules\n",
    "# see http://stackoverflow.com/questions/1907993/autoreload-of-modules-in-ipython\n",
    "%load_ext autoreload\n",
    "%autoreload 2"
   ]
  },
  {
   "cell_type": "markdown",
   "metadata": {},
   "source": [
    "# TinyImageNet and pretrained model\n",
    "As in the previous notebook, load the TinyImageNet dataset and the pretrained model."
   ]
  },
  {
   "cell_type": "code",
   "execution_count": 5,
   "metadata": {
    "collapsed": false
   },
   "outputs": [
    {
     "name": "stdout",
     "output_type": "stream",
     "text": [
      "loading training data for synset 20 / 100\n",
      "loading training data for synset 40 / 100\n",
      "loading training data for synset 60 / 100\n",
      "loading training data for synset 80 / 100\n",
      "loading training data for synset 100 / 100\n"
     ]
    }
   ],
   "source": [
    "data = load_tiny_imagenet('cs231n/datasets/tiny-imagenet-100-A', subtract_mean=True)\n",
    "model = PretrainedCNN(h5_file='cs231n/datasets/pretrained_model.h5')"
   ]
  },
  {
   "cell_type": "markdown",
   "metadata": {},
   "source": [
    " # Class visualization\n",
    "By starting with a random noise image and performing gradient ascent on a target class, we can generate an image that the network will recognize as the target class. This idea was first presented in [1]; [2] extended this idea by suggesting several regularization techniques that can improve the quality of the generated image.\n",
    "\n",
    "Concretely, let $I$ be an image and let $y$ be a target class. Let $s_y(I)$ be the score that a convolutional network assigns to the image $I$ for class $y$; note that these are raw unnormalized scores, not class probabilities. We wish to generate an image $I^*$ that achieves a high score for the class $y$ by solving the problem\n",
    "\n",
    "$$\n",
    "I^* = \\arg\\max_I s_y(I) + R(I)\n",
    "$$\n",
    "\n",
    "where $R$ is a (possibly implicit) regularizer. We can solve this optimization problem using gradient descent, computing gradients with respect to the generated image. We will use (explicit) L2 regularization of the form\n",
    "\n",
    "$$\n",
    "R(I) + \\lambda \\|I\\|_2^2\n",
    "$$\n",
    "\n",
    "and implicit regularization as suggested by [2] by peridically blurring the generated image. We can solve this problem using gradient ascent on the generated image.\n",
    "\n",
    "In the cell below, complete the implementation of the `create_class_visualization` function.\n",
    "\n",
    "[1] Karen Simonyan, Andrea Vedaldi, and Andrew Zisserman. \"Deep Inside Convolutional Networks: Visualising\n",
    "Image Classification Models and Saliency Maps\", ICLR Workshop 2014.\n",
    "\n",
    "[2] Yosinski et al, \"Understanding Neural Networks Through Deep Visualization\", ICML 2015 Deep Learning Workshop"
   ]
  },
  {
   "cell_type": "code",
   "execution_count": 59,
   "metadata": {
    "collapsed": true
   },
   "outputs": [],
   "source": [
    "def create_class_visualization(target_y, model, **kwargs):\n",
    "  \"\"\"\n",
    "  Perform optimization over the image to generate class visualizations.\n",
    "  \n",
    "  Inputs:\n",
    "  - target_y: Integer in the range [0, 100) giving the target class\n",
    "  - model: A PretrainedCNN that will be used for generation\n",
    "  \n",
    "  Keyword arguments:\n",
    "  - learning_rate: Floating point number giving the learning rate\n",
    "  - blur_every: An integer; how often to blur the image as a regularizer\n",
    "  - l2_reg: Floating point number giving L2 regularization strength on the image;\n",
    "    this is lambda in the equation above.\n",
    "  - max_jitter: How much random jitter to add to the image as regularization\n",
    "  - num_iterations: How many iterations to run for\n",
    "  - show_every: How often to show the image\n",
    "  \"\"\"\n",
    "  \n",
    "  learning_rate = kwargs.pop('learning_rate', 10000)\n",
    "  blur_every = kwargs.pop('blur_every', 1)\n",
    "  l2_reg = kwargs.pop('l2_reg', 1e-6)\n",
    "  max_jitter = kwargs.pop('max_jitter', 4)\n",
    "  num_iterations = kwargs.pop('num_iterations', 100)\n",
    "  show_every = kwargs.pop('show_every', 25)\n",
    "  \n",
    "  X = np.random.randn(1, 3, 64, 64)\n",
    "  for t in xrange(num_iterations):\n",
    "    # As a regularizer, add random jitter to the image\n",
    "    ox, oy = np.random.randint(-max_jitter, max_jitter+1, 2)\n",
    "    X = np.roll(np.roll(X, ox, -1), oy, -2)\n",
    "\n",
    "    dX = None\n",
    "    ############################################################################\n",
    "    # TODO: Compute the image gradient dX of the image with respect to the     #\n",
    "    # target_y class score. This should be similar to the fooling images. Also #\n",
    "    # add L2 regularization to dX and update the image X using the image       #\n",
    "    # gradient and the learning rate.                                          #\n",
    "    ############################################################################\n",
    "    pass\n",
    "    \n",
    "    scores, cache = model.forward(X, mode=\"test\")\n",
    "    print scores[0, target_y]\n",
    "    \n",
    "    dscores = np.zeros(model.num_classes)\n",
    "    dscores[target_y] = 1\n",
    "    \n",
    "    dX, grads = model.backward(dscores[np.newaxis, :], cache)\n",
    "    \n",
    "    dX += l2_reg * X\n",
    "    \n",
    "    X += learning_rate * dX\n",
    "    \n",
    "    ############################################################################\n",
    "    #                             END OF YOUR CODE                             #\n",
    "    ############################################################################\n",
    "    \n",
    "    # Undo the jitter\n",
    "    X = np.roll(np.roll(X, -ox, -1), -oy, -2)\n",
    "    \n",
    "    # As a regularizer, clip the image\n",
    "    X = np.clip(X, -data['mean_image'], 255.0 - data['mean_image'])\n",
    "    \n",
    "    # As a regularizer, periodically blur the image\n",
    "    if t % blur_every == 0:\n",
    "      X = blur_image(X)\n",
    "    \n",
    "    # Periodically show the image\n",
    "    if t % show_every == 0:\n",
    "      plt.imshow(deprocess_image(X, data['mean_image']))\n",
    "      plt.gcf().set_size_inches(3, 3)\n",
    "      plt.axis('off')\n",
    "      plt.show()\n",
    "  return X"
   ]
  },
  {
   "cell_type": "markdown",
   "metadata": {},
   "source": [
    "You can use the code above to generate some cool images! An example is shown below. Try to generate a cool-looking image. If you want you can try to implement the other regularization schemes from Yosinski et al, but it isn't required."
   ]
  },
  {
   "cell_type": "code",
   "execution_count": 60,
   "metadata": {
    "collapsed": false
   },
   "outputs": [
    {
     "data": {
      "text/plain": [
       "(1, 3, 64, 64)"
      ]
     },
     "execution_count": 60,
     "metadata": {},
     "output_type": "execute_result"
    }
   ],
   "source": [
    "X.shape"
   ]
  },
  {
   "cell_type": "code",
   "execution_count": 61,
   "metadata": {
    "collapsed": false
   },
   "outputs": [
    {
     "name": "stdout",
     "output_type": "stream",
     "text": [
      "['tarantula']\n",
      "39.118\n"
     ]
    },
    {
     "data": {
      "image/png": "[encoded data removed]",
      "text/plain": [
       "<matplotlib.figure.Figure at 0x11827a910>"
      ]
     },
     "metadata": {},
     "output_type": "display_data"
    },
    {
     "name": "stdout",
     "output_type": "stream",
     "text": [
      "-4251.24\n",
      "-2653.45\n",
      "-2222.13\n",
      "-1708.46\n",
      "-2339.22\n",
      "-2088.32\n",
      "223.086\n",
      "-1595.63\n",
      "595.831\n",
      "-2851.45\n",
      "-539.968\n",
      "-1697.24\n",
      "-2027.0\n",
      "-1498.33\n",
      "-1741.07\n",
      "-504.521\n",
      "830.824\n",
      "-2185.79\n",
      "-2121.61\n",
      "-2508.82\n",
      "-2391.66\n",
      "-1691.85\n",
      "340.46\n",
      "-2542.77\n",
      "-1286.87\n"
     ]
    },
    {
     "data": {
      "image/png": "[encoded data removed]",
      "text/plain": [
       "<matplotlib.figure.Figure at 0x11850e390>"
      ]
     },
     "metadata": {},
     "output_type": "display_data"
    },
    {
     "name": "stdout",
     "output_type": "stream",
     "text": [
      "-284.645\n",
      "-1780.6\n",
      "-1387.94\n",
      "-1054.01\n",
      "-771.299\n",
      "-901.539\n",
      "-1102.07\n",
      "-1051.85\n",
      "-243.813\n",
      "-2986.62\n",
      "-2073.03\n",
      "-2329.5\n",
      "-1671.8\n",
      "-1132.42\n",
      "-362.662\n",
      "-1032.41\n",
      "-1396.77\n",
      "-2077.97\n",
      "-3428.63\n",
      "-1180.47\n",
      "-1264.01\n",
      "-1558.2\n",
      "-1590.4\n",
      "-1597.71\n",
      "-178.543\n"
     ]
    },
    {
     "data": {
      "image/png": "[encoded data removed]",
      "text/plain": [
       "<matplotlib.figure.Figure at 0x11f69c390>"
      ]
     },
     "metadata": {},
     "output_type": "display_data"
    },
    {
     "name": "stdout",
     "output_type": "stream",
     "text": [
      "382.886\n",
      "-762.162\n",
      "-1610.22\n",
      "-1887.18\n",
      "-1220.46\n",
      "-512.446\n",
      "-1206.96\n",
      "-2429.53\n",
      "-2355.81\n",
      "-2226.63\n",
      "-1581.16\n",
      "-1624.26\n",
      "-1634.95\n",
      "142.77\n",
      "-3135.4\n",
      "-1351.48\n",
      "-1945.2\n",
      "-1111.2\n",
      "-1363.6\n",
      "261.584\n",
      "-2577.12\n",
      "-1184.64\n",
      "1927.04\n",
      "-2462.24\n",
      "-3613.25\n"
     ]
    },
    {
     "data": {
      "image/png": "[encoded data removed]",
      "text/plain": [
       "<matplotlib.figure.Figure at 0x118586ed0>"
      ]
     },
     "metadata": {},
     "output_type": "display_data"
    },
    {
     "name": "stdout",
     "output_type": "stream",
     "text": [
      "-1380.36\n",
      "-1697.4\n",
      "-1533.7\n",
      "-2364.6\n",
      "-1187.32\n",
      "-4296.01\n",
      "-1636.89\n",
      "-1343.62\n",
      "442.818\n",
      "-2949.27\n",
      "-2769.0\n",
      "-2218.19\n",
      "-838.714\n",
      "-1319.9\n",
      "-2415.0\n",
      "-1400.62\n",
      "-1842.21\n",
      "-2005.8\n",
      "-913.319\n",
      "-190.138\n",
      "-561.939\n",
      "-2052.43\n",
      "-1896.18\n",
      "343.423\n"
     ]
    }
   ],
   "source": [
    "target_y = 43 # Tarantula\n",
    "print data['class_names'][target_y]\n",
    "X = create_class_visualization(target_y, model, show_every=25)"
   ]
  },
  {
   "cell_type": "markdown",
   "metadata": {},
   "source": [
    "# Feature Inversion\n",
    "In an attempt to understand the types of features that convolutional networks learn to recognize, a recent paper [1] attempts to reconstruct an image from its feature representation. We can easily implement this idea using image gradients from the pretrained network.\n",
    "\n",
    "Concretely, given a image $I$, let $\\phi_\\ell(I)$ be the activations at layer $\\ell$ of the convolutional network $\\phi$. We wish to find an image $I^*$ with a similar feature representation as $I$ at layer $\\ell$ of the network $\\phi$ by solving the optimization problem\n",
    "\n",
    "$$\n",
    "I^* = \\arg\\min_{I'} \\|\\phi_\\ell(I) - \\phi_\\ell(I')\\|_2^2 + R(I')\n",
    "$$\n",
    "\n",
    "where $\\|\\cdot\\|_2^2$ is the squared Euclidean norm. As above, $R$ is a (possibly implicit) regularizer. We can solve this optimization problem using gradient descent, computing gradients with respect to the generated image. We will use (explicit) L2 regularization of the form\n",
    "\n",
    "$$\n",
    "R(I') + \\lambda \\|I'\\|_2^2\n",
    "$$\n",
    "\n",
    "together with implicit regularization by periodically blurring the image, as recommended by [2].\n",
    "\n",
    "Implement this method in the function below.\n",
    "\n",
    "[1] Aravindh Mahendran, Andrea Vedaldi, \"Understanding Deep Image Representations by Inverting them\", CVPR 2015\n",
    "\n",
    "[2] Yosinski et al, \"Understanding Neural Networks Through Deep Visualization\", ICML 2015 Deep Learning Workshop"
   ]
  },
  {
   "cell_type": "code",
   "execution_count": 64,
   "metadata": {
    "collapsed": false
   },
   "outputs": [],
   "source": [
    "def invert_features(target_feats, layer, model, **kwargs):\n",
    "  \"\"\"\n",
    "  Perform feature inversion in the style of Mahendran and Vedaldi 2015, using\n",
    "  L2 regularization and periodic blurring.\n",
    "  \n",
    "  Inputs:\n",
    "  - target_feats: Image features of the target image, of shape (1, C, H, W);\n",
    "    we will try to generate an image that matches these features\n",
    "  - layer: The index of the layer from which the features were extracted\n",
    "  - model: A PretrainedCNN that was used to extract features\n",
    "  \n",
    "  Keyword arguments:\n",
    "  - learning_rate: The learning rate to use for gradient descent\n",
    "  - num_iterations: The number of iterations to use for gradient descent\n",
    "  - l2_reg: The strength of L2 regularization to use; this is lambda in the\n",
    "    equation above.\n",
    "  - blur_every: How often to blur the image as implicit regularization; set\n",
    "    to 0 to disable blurring.\n",
    "  - show_every: How often to show the generated image; set to 0 to disable\n",
    "    showing intermediate reuslts.\n",
    "    \n",
    "  Returns:\n",
    "  - X: Generated image of shape (1, 3, 64, 64) that matches the target features.\n",
    "  \"\"\"\n",
    "  learning_rate = kwargs.pop('learning_rate', 10000)\n",
    "  num_iterations = kwargs.pop('num_iterations', 500)\n",
    "  l2_reg = kwargs.pop('l2_reg', 1e-7)\n",
    "  blur_every = kwargs.pop('blur_every', 1)\n",
    "  show_every = kwargs.pop('show_every', 50)\n",
    "  \n",
    "  X = np.random.randn(1, 3, 64, 64)\n",
    "  for t in xrange(num_iterations):\n",
    "    ############################################################################\n",
    "    # TODO: Compute the image gradient dX of the reconstruction loss with      #\n",
    "    # respect to the image. You should include L2 regularization penalizing    #\n",
    "    # large pixel values in the generated image using the l2_reg parameter;    #\n",
    "    # then update the generated image using the learning_rate from above.      #\n",
    "    ############################################################################\n",
    "    pass\n",
    "\n",
    "    phi_ell_X_prime, cache = model.forward(X, end=layer, mode=\"test\")\n",
    "    \n",
    "    dout = target_feats - phi_ell_X_prime\n",
    "    d_phi_ell_X_prime, _ = model.backward(dout, cache)\n",
    "    \n",
    "    dX = -dout.dot(d_phi_ell_X_prime)\n",
    "    dX += l2_reg * X\n",
    "    \n",
    "    X -= learning_rate * dX\n",
    "    \n",
    "    ############################################################################\n",
    "    #                             END OF YOUR CODE                             #\n",
    "    ############################################################################\n",
    "    \n",
    "    # As a regularizer, clip the image\n",
    "    X = np.clip(X, -data['mean_image'], 255.0 - data['mean_image'])\n",
    "    \n",
    "    # As a regularizer, periodically blur the image\n",
    "    if (blur_every > 0) and t % blur_every == 0:\n",
    "      X = blur_image(X)\n",
    "\n",
    "    if (show_every > 0) and (t % show_every == 0 or t + 1 == num_iterations):\n",
    "      plt.imshow(deprocess_image(X, data['mean_image']))\n",
    "      plt.gcf().set_size_inches(3, 3)\n",
    "      plt.axis('off')\n",
    "      plt.title('t = %d' % t)\n",
    "      plt.show()"
   ]
  },
  {
   "cell_type": "markdown",
   "metadata": {},
   "source": [
    "### Shallow feature reconstruction\n",
    "After implementing the feature inversion above, run the following cell to try and reconstruct features from the fourth convolutional layer of the pretrained model. You should be able to reconstruct the features using the provided optimization parameters."
   ]
  },
  {
   "cell_type": "code",
   "execution_count": 65,
   "metadata": {
    "collapsed": false,
    "scrolled": false
   },
   "outputs": [
    {
     "data": {
      "image/png": "[encoded data removed]",
      "text/plain": [
       "<matplotlib.figure.Figure at 0x11878f4d0>"
      ]
     },
     "metadata": {},
     "output_type": "display_data"
    },
    {
     "ename": "ValueError",
     "evalue": "shapes (1,128,16,16) and (1,3,64,64) not aligned: 16 (dim 3) != 64 (dim 2)",
     "output_type": "error",
     "traceback": [
      "\u001b[0;31m----------------------------------\u001b[0m",
      "\u001b[0;31mValueError\u001b[0mTraceback (most recent call last)",
      "\u001b[0;32m<ipython-input-65-2d064b2603d4>\u001b[0m in \u001b[0;36m<module>\u001b[0;34m()\u001b[0m\n\u001b[1;32m     24\u001b[0m   \u001b[0;34m'blur_every'\u001b[0m\u001b[0;34m:\u001b[0m \u001b[0;36m10\u001b[0m\u001b[0;34m,\u001b[0m\u001b[0;34m\u001b[0m\u001b[0m\n\u001b[1;32m     25\u001b[0m }\n\u001b[0;32m---> 26\u001b[0;31m \u001b[0mX\u001b[0m \u001b[0;34m=\u001b[0m \u001b[0minvert_features\u001b[0m\u001b[0;34m(\u001b[0m\u001b[0mfeats\u001b[0m\u001b[0;34m,\u001b[0m \u001b[0mlayer\u001b[0m\u001b[0;34m,\u001b[0m \u001b[0mmodel\u001b[0m\u001b[0;34m,\u001b[0m \u001b[0;34m**\u001b[0m\u001b[0mkwargs\u001b[0m\u001b[0;34m)\u001b[0m\u001b[0;34m\u001b[0m\u001b[0m\n\u001b[0m",
      "\u001b[0;32m<ipython-input-64-3df306d570c0>\u001b[0m in \u001b[0;36minvert_features\u001b[0;34m(target_feats, layer, model, **kwargs)\u001b[0m\n\u001b[1;32m     44\u001b[0m     \u001b[0md_phi_ell_X_prime\u001b[0m\u001b[0;34m,\u001b[0m \u001b[0m_\u001b[0m \u001b[0;34m=\u001b[0m \u001b[0mmodel\u001b[0m\u001b[0;34m.\u001b[0m\u001b[0mbackward\u001b[0m\u001b[0;34m(\u001b[0m\u001b[0mdout\u001b[0m\u001b[0;34m,\u001b[0m \u001b[0mcache\u001b[0m\u001b[0;34m)\u001b[0m\u001b[0;34m\u001b[0m\u001b[0m\n\u001b[1;32m     45\u001b[0m \u001b[0;34m\u001b[0m\u001b[0m\n\u001b[0;32m---> 46\u001b[0;31m     \u001b[0mdX\u001b[0m \u001b[0;34m=\u001b[0m \u001b[0;34m-\u001b[0m\u001b[0mdout\u001b[0m\u001b[0;34m.\u001b[0m\u001b[0mdot\u001b[0m\u001b[0;34m(\u001b[0m\u001b[0md_phi_ell_X_prime\u001b[0m\u001b[0;34m)\u001b[0m\u001b[0;34m\u001b[0m\u001b[0m\n\u001b[0m\u001b[1;32m     47\u001b[0m     \u001b[0mdX\u001b[0m \u001b[0;34m+=\u001b[0m \u001b[0ml2_reg\u001b[0m \u001b[0;34m*\u001b[0m \u001b[0mX\u001b[0m\u001b[0;34m\u001b[0m\u001b[0m\n\u001b[1;32m     48\u001b[0m \u001b[0;34m\u001b[0m\u001b[0m\n",
      "\u001b[0;31mValueError\u001b[0m: shapes (1,128,16,16) and (1,3,64,64) not aligned: 16 (dim 3) != 64 (dim 2)"
     ]
    }
   ],
   "source": [
    "filename = 'kitten.jpg'\n",
    "layer = 3 # layers start from 0 so these are features after 4 convolutions\n",
    "img = imresize(imread(filename), (64, 64))\n",
    "\n",
    "plt.imshow(img)\n",
    "plt.gcf().set_size_inches(3, 3)\n",
    "plt.title('Original image')\n",
    "plt.axis('off')\n",
    "plt.show()\n",
    "\n",
    "# Preprocess the image before passing it to the network:\n",
    "# subtract the mean, add a dimension, etc\n",
    "img_pre = preprocess_image(img, data['mean_image'])\n",
    "\n",
    "# Extract features from the image\n",
    "feats, _ = model.forward(img_pre, end=layer)\n",
    "\n",
    "# Invert the features\n",
    "kwargs = {\n",
    "  'num_iterations': 400,\n",
    "  'learning_rate': 5000,\n",
    "  'l2_reg': 1e-8,\n",
    "  'show_every': 100,\n",
    "  'blur_every': 10,\n",
    "}\n",
    "X = invert_features(feats, layer, model, **kwargs)"
   ]
  },
  {
   "cell_type": "markdown",
   "metadata": {},
   "source": [
    "### Deep feature reconstruction\n",
    "Reconstructing images using features from deeper layers of the network tends to give interesting results. In the cell below, try to reconstruct the best image you can by inverting the features after 7 layers of convolutions. You will need to play with the hyperparameters to try and get a good result.\n",
    "\n",
    "HINT: If you read the paper by Mahendran and Vedaldi, you'll see that reconstructions from deep features tend not to look much like the original image, so you shouldn't expect the results to look like the reconstruction above. You should be able to get an image that shows some discernable structure within 1000 iterations."
   ]
  },
  {
   "cell_type": "code",
   "execution_count": null,
   "metadata": {
    "collapsed": false
   },
   "outputs": [],
   "source": [
    "filename = 'kitten.jpg'\n",
    "layer = 6 # layers start from 0 so these are features after 7 convolutions\n",
    "img = imresize(imread(filename), (64, 64))\n",
    "\n",
    "plt.imshow(img)\n",
    "plt.gcf().set_size_inches(3, 3)\n",
    "plt.title('Original image')\n",
    "plt.axis('off')\n",
    "plt.show()\n",
    "\n",
    "# Preprocess the image before passing it to the network:\n",
    "# subtract the mean, add a dimension, etc\n",
    "img_pre = preprocess_image(img, data['mean_image'])\n",
    "\n",
    "# Extract features from the image\n",
    "feats, _ = model.forward(img_pre, end=layer)\n",
    "\n",
    "# Invert the features\n",
    "# You will need to play with these parameters.\n",
    "kwargs = {\n",
    "  'num_iterations': 1000,\n",
    "  'learning_rate': 0,\n",
    "  'l2_reg': 0,\n",
    "  'show_every': 100,\n",
    "  'blur_every': 0,\n",
    "}\n",
    "X = invert_features(feats, layer, model, **kwargs)"
   ]
  },
  {
   "cell_type": "markdown",
   "metadata": {},
   "source": [
    "# DeepDream\n",
    "In the summer of 2015, Google released a [blog post](http://googleresearch.blogspot.com/2015/06/inceptionism-going-deeper-into-neural.html) describing a new method of generating images from neural networks, and they later [released code](https://github.com/google/deepdream) to generate these images.\n",
    "\n",
    "The idea is very simple. We pick some layer from the network, pass the starting image through the network to extract features at the chosen layer, set the gradient at that layer equal to the activations themselves, and then backpropagate to the image. This has the effect of modifying the image to amplify the activations at the chosen layer of the network.\n",
    "\n",
    "For DeepDream we usually extract features from one of the convolutional layers, allowing us to generate images of any resolution.\n",
    "\n",
    "We can implement this idea using our pretrained network. The results probably won't look as good as Google's since their network is much bigger, but we should still be able to generate some interesting images."
   ]
  },
  {
   "cell_type": "code",
   "execution_count": null,
   "metadata": {
    "collapsed": false
   },
   "outputs": [],
   "source": [
    "def deepdream(X, layer, model, **kwargs):\n",
    "  \"\"\"\n",
    "  Generate a DeepDream image.\n",
    "  \n",
    "  Inputs:\n",
    "  - X: Starting image, of shape (1, 3, H, W)\n",
    "  - layer: Index of layer at which to dream\n",
    "  - model: A PretrainedCNN object\n",
    "  \n",
    "  Keyword arguments:\n",
    "  - learning_rate: How much to update the image at each iteration\n",
    "  - max_jitter: Maximum number of pixels for jitter regularization\n",
    "  - num_iterations: How many iterations to run for\n",
    "  - show_every: How often to show the generated image\n",
    "  \"\"\"\n",
    "  \n",
    "  X = X.copy()\n",
    "  \n",
    "  learning_rate = kwargs.pop('learning_rate', 5.0)\n",
    "  max_jitter = kwargs.pop('max_jitter', 16)\n",
    "  num_iterations = kwargs.pop('num_iterations', 100)\n",
    "  show_every = kwargs.pop('show_every', 25)\n",
    "  \n",
    "  for t in xrange(num_iterations):\n",
    "    # As a regularizer, add random jitter to the image\n",
    "    ox, oy = np.random.randint(-max_jitter, max_jitter+1, 2)\n",
    "    X = np.roll(np.roll(X, ox, -1), oy, -2)\n",
    "\n",
    "    dX = None\n",
    "    ############################################################################\n",
    "    # TODO: Compute the image gradient dX using the DeepDream method. You'll   #\n",
    "    # need to use the forward and backward methods of the model object to      #\n",
    "    # extract activations and set gradients for the chosen layer. After        #\n",
    "    # computing the image gradient dX, you should use the learning rate to     #\n",
    "    # update the image X.                                                      #\n",
    "    ############################################################################\n",
    "    pass\n",
    "    ############################################################################\n",
    "    #                             END OF YOUR CODE                             #\n",
    "    ############################################################################\n",
    "    \n",
    "    # Undo the jitter\n",
    "    X = np.roll(np.roll(X, -ox, -1), -oy, -2)\n",
    "    \n",
    "    # As a regularizer, clip the image\n",
    "    mean_pixel = data['mean_image'].mean(axis=(1, 2), keepdims=True)\n",
    "    X = np.clip(X, -mean_pixel, 255.0 - mean_pixel)\n",
    "    \n",
    "    # Periodically show the image\n",
    "    if t == 0 or (t + 1) % show_every == 0:\n",
    "      img = deprocess_image(X, data['mean_image'], mean='pixel')\n",
    "      plt.imshow(img)\n",
    "      plt.title('t = %d' % (t + 1))\n",
    "      plt.gcf().set_size_inches(8, 8)\n",
    "      plt.axis('off')\n",
    "      plt.show()\n",
    "  return X"
   ]
  },
  {
   "cell_type": "markdown",
   "metadata": {},
   "source": [
    "# Generate some images!\n",
    "Try and generate a cool-looking DeepDeam image using the pretrained network. You can try using different layers, or starting from different images. You can reduce the image size if it runs too slowly on your machine, or increase the image size if you are feeling ambitious."
   ]
  },
  {
   "cell_type": "code",
   "execution_count": null,
   "metadata": {
    "collapsed": false,
    "scrolled": false
   },
   "outputs": [],
   "source": [
    "def read_image(filename, max_size):\n",
    "  \"\"\"\n",
    "  Read an image from disk and resize it so its larger side is max_size\n",
    "  \"\"\"\n",
    "  img = imread(filename)\n",
    "  H, W, _ = img.shape\n",
    "  if H >= W:\n",
    "    img = imresize(img, (max_size, int(W * float(max_size) / H)))\n",
    "  elif H < W:\n",
    "    img = imresize(img, (int(H * float(max_size) / W), max_size))\n",
    "  return img\n",
    "\n",
    "filename = 'kitten.jpg'\n",
    "max_size = 256\n",
    "img = read_image(filename, max_size)\n",
    "plt.imshow(img)\n",
    "plt.axis('off')\n",
    "\n",
    "# Preprocess the image by converting to float, transposing,\n",
    "# and performing mean subtraction.\n",
    "img_pre = preprocess_image(img, data['mean_image'], mean='pixel')\n",
    "\n",
    "out = deepdream(img_pre, 7, model, learning_rate=2000)"
   ]
  }
 ],
 "metadata": {
  "kernelspec": {
   "display_name": "Python 2",
   "language": "python",
   "name": "python2"
  },
  "language_info": {
   "codemirror_mode": {
    "name": "ipython",
    "version": 2
   },
   "file_extension": ".py",
   "mimetype": "text/x-python",
   "name": "python",
   "nbconvert_exporter": "python",
   "pygments_lexer": "ipython2",
   "version": "2.7.13"
  }
 },
 "nbformat": 4,
 "nbformat_minor": 0
}
